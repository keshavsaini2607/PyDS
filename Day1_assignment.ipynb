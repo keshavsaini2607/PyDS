{
  "nbformat": 4,
  "nbformat_minor": 0,
  "metadata": {
    "colab": {
      "name": "Day1_assignment.ipynb",
      "provenance": [],
      "collapsed_sections": [],
      "authorship_tag": "ABX9TyM7L+JMFocV1MWCt7yFgh4o",
      "include_colab_link": true
    },
    "kernelspec": {
      "name": "python3",
      "display_name": "Python 3"
    }
  },
  "cells": [
    {
      "cell_type": "markdown",
      "metadata": {
        "id": "view-in-github",
        "colab_type": "text"
      },
      "source": [
        "<a href=\"https://colab.research.google.com/github/keshavsaini2607/PyDS/blob/master/Day1_assignment.ipynb\" target=\"_parent\"><img src=\"https://colab.research.google.com/assets/colab-badge.svg\" alt=\"Open In Colab\"/></a>"
      ]
    },
    {
      "cell_type": "markdown",
      "metadata": {
        "id": "RfdX5H9e3AKw",
        "colab_type": "text"
      },
      "source": [
        "# first question \n",
        "#Create a list of the first 15 even numbers that are not divisible by 6"
      ]
    },
    {
      "cell_type": "code",
      "metadata": {
        "id": "dDxdplgt3Dbp",
        "colab_type": "code",
        "colab": {
          "base_uri": "https://localhost:8080/",
          "height": 34
        },
        "outputId": "af96fb2d-898e-4a2d-e574-f35667f0b58c"
      },
      "source": [
        "evens = []\n",
        "for i in range(15):\n",
        "    if 2* i % 6 !=0:\n",
        "        evens.append(2*i)\n",
        "evens"
      ],
      "execution_count": 2,
      "outputs": [
        {
          "output_type": "execute_result",
          "data": {
            "text/plain": [
              "[2, 4, 8, 10, 14, 16, 20, 22, 26, 28]"
            ]
          },
          "metadata": {
            "tags": []
          },
          "execution_count": 2
        }
      ]
    }
  ]
}