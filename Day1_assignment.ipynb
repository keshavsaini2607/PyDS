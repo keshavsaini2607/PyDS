{
  "nbformat": 4,
  "nbformat_minor": 0,
  "metadata": {
    "colab": {
      "name": "Day1_assignment.ipynb",
      "provenance": [],
      "collapsed_sections": [],
      "authorship_tag": "ABX9TyPhtcpWmtZzg9023XNLEl7p",
      "include_colab_link": true
    },
    "kernelspec": {
      "name": "python3",
      "display_name": "Python 3"
    }
  },
  "cells": [
    {
      "cell_type": "markdown",
      "metadata": {
        "id": "view-in-github",
        "colab_type": "text"
      },
      "source": [
        "<a href=\"https://colab.research.google.com/github/keshavsaini2607/PyDS/blob/master/Day1_assignment.ipynb\" target=\"_parent\"><img src=\"https://colab.research.google.com/assets/colab-badge.svg\" alt=\"Open In Colab\"/></a>"
      ]
    },
    {
      "cell_type": "markdown",
      "metadata": {
        "id": "RfdX5H9e3AKw",
        "colab_type": "text"
      },
      "source": [
        "# first question \n",
        "#Create a list of the first 15 even numbers that are not divisible by 6"
      ]
    },
    {
      "cell_type": "code",
      "metadata": {
        "id": "dDxdplgt3Dbp",
        "colab_type": "code",
        "outputId": "af96fb2d-898e-4a2d-e574-f35667f0b58c",
        "colab": {
          "base_uri": "https://localhost:8080/",
          "height": 34
        }
      },
      "source": [
        "evens = []\n",
        "for i in range(15):\n",
        "    if 2* i % 6 !=0:\n",
        "        evens.append(2*i)\n",
        "evens"
      ],
      "execution_count": 0,
      "outputs": [
        {
          "output_type": "execute_result",
          "data": {
            "text/plain": [
              "[2, 4, 8, 10, 14, 16, 20, 22, 26, 28]"
            ]
          },
          "metadata": {
            "tags": []
          },
          "execution_count": 2
        }
      ]
    },
    {
      "cell_type": "markdown",
      "metadata": {
        "id": "0TnlHQpyBZk3",
        "colab_type": "text"
      },
      "source": [
        "Write a function to Check whether given two string is anagram or not\n",
        "\n"
      ]
    },
    {
      "cell_type": "code",
      "metadata": {
        "id": "DuwbtTZJBgbe",
        "colab_type": "code",
        "outputId": "0fed2a19-c780-40f7-f65a-f03cba781dd3",
        "colab": {
          "base_uri": "https://localhost:8080/",
          "height": 34
        }
      },
      "source": [
        "def anagram(str1,str2):\n",
        "  if sorted(str1) == sorted(str2):\n",
        "    return 'anagram'\n",
        "  else:\n",
        "    return 'not anagram'\n",
        "\n",
        "anagram('abbbc','acbbb')"
      ],
      "execution_count": 12,
      "outputs": [
        {
          "output_type": "execute_result",
          "data": {
            "text/plain": [
              "'anagram'"
            ]
          },
          "metadata": {
            "tags": []
          },
          "execution_count": 12
        }
      ]
    }
  ]
}